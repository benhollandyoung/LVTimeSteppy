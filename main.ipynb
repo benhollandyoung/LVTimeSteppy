{
 "cells": [
  {
   "cell_type": "markdown",
   "id": "48fb3fa9",
   "metadata": {},
   "source": [
    "# Solving the Lotke-Volterra equations using a numerical timestepping method\n",
    "I would like to solve the following:\n",
    "$$\n",
    "\\frac{dx}{dt} = \\alpha x - \\beta x y \n",
    "$$\n",
    "$$\n",
    "\\frac{dy}{dt} = \\delta xy - \\gamma y,\n",
    "$$\n",
    "where $\\alpha, \\beta, \\delta, \\gamma > 0$. I will solve this using the Forward Euler method. Let $X(t) = \\begin{pmatrix} x(t) \\\\ y(t) \\end{pmatrix}$. I am following the tutorial on [https://scipy-cookbook.readthedocs.io/items/LoktaVolterraTutorial.html]. "
   ]
  },
  {
   "cell_type": "code",
   "execution_count": 3,
   "id": "3a83a720",
   "metadata": {},
   "outputs": [],
   "source": [
    "import numpy as np\n",
    "import matplotlib.pyplot as plt\n",
    "\n",
    "alpha = 0.1\n",
    "beta = 2\n",
    "delta = 5\n",
    "gamma = 3\n",
    "\n",
    "def dX_dt(X, t=0):\n",
    "    \"\"\" Returns growth rate of x (prey) and y (predator). \"\"\"\n",
    "\n",
    "    return np.array([ alpha* X[0] - beta*X[0]*X[1],\n",
    "                      delta*X[0]*X[1] - gamma*X[1] ])"
   ]
  },
  {
   "cell_type": "code",
   "execution_count": null,
   "id": "787216f4",
   "metadata": {},
   "outputs": [],
   "source": [
    "from scipy import integrate\n",
    "\n",
    "t = np.linspace(0,15,1000)\n",
    "X0 = np.array([10,5])\n",
    "X = integrate.odeint(dX_dt, X0, t)\n",
    "\n",
    "prey, predator = X.T \n",
    "f1 = plt.figure()\n",
    "\n",
    "f1.plot(t,prey, 'r-', label = \"Prey\")\n",
    "f1.plot(t,predator, 'b+', label = \"Predator\")\n",
    "f1.xlabel(\"Time\")\n",
    "f1.ylabel(\"Population\")\n",
    "f1.show()"
   ]
  }
 ],
 "metadata": {
  "kernelspec": {
   "display_name": "base",
   "language": "python",
   "name": "python3"
  },
  "language_info": {
   "codemirror_mode": {
    "name": "ipython",
    "version": 3
   },
   "file_extension": ".py",
   "mimetype": "text/x-python",
   "name": "python",
   "nbconvert_exporter": "python",
   "pygments_lexer": "ipython3",
   "version": "3.12.2"
  }
 },
 "nbformat": 4,
 "nbformat_minor": 5
}
