{
 "cells": [
  {
   "cell_type": "markdown",
   "id": "48fb3fa9",
   "metadata": {},
   "source": [
    "# Solving the Lotke-Volterra equations using a numerical timestepping method\n",
    "I would like to solve the following:\n",
    "$$\n",
    "\\frac{dx}{dt} = \\alpha x - \\beta x y \n",
    "$$\n",
    "$$\n",
    "\\frac{dy}{dt} = \\delta xy - \\gamma y,\n",
    "$$\n",
    "where $\\alpha, \\beta, \\delta, \\gamma > 0$. I will solve this using the Forward Euler method. Let $X(t) = \\begin{pmatrix} x(t) \\\\ y(t) \\end{pmatrix}$. I am following the tutorial on [https://scipy-cookbook.readthedocs.io/items/LoktaVolterraTutorial.html]. "
   ]
  },
  {
   "cell_type": "code",
   "execution_count": null,
   "id": "3a83a720",
   "metadata": {},
   "outputs": [],
   "source": [
    "import numpy as np\n",
    "import matplotlib.pyplot as plt\n",
    "\n",
    "alpha = 0.1\n",
    "beta = 2\n",
    "delta = 5\n",
    "gamma = 3\n",
    "\n",
    "def dX_dt(X):\n",
    "    \"\"\" Returns growth rate of x (prey) and y (predator). \"\"\"\n",
    "\n",
    "    return np.array([ alpha* X[0] - beta*X[0]*X[1],\n",
    "                      delta*X[0]*X[1] - gamma*X[1] ])\n",
    "\n",
    "\n"
   ]
  }
 ],
 "metadata": {
  "language_info": {
   "name": "python"
  }
 },
 "nbformat": 4,
 "nbformat_minor": 5
}
